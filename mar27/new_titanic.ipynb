{
 "cells": [
  {
   "cell_type": "code",
   "execution_count": 9,
   "metadata": {},
   "outputs": [],
   "source": [
    "import pandas as pd\n",
    "\n",
    "titanic_lost = pd.read_csv('lost.csv', sep=';')\n",
    "titanic_survived = pd.read_csv('survivors.csv', sep=',')\n",
    "titanic_victims = pd.read_csv('victims.csv', sep=',')"
   ]
  },
  {
   "cell_type": "code",
   "execution_count": 10,
   "metadata": {},
   "outputs": [
    {
     "name": "stdout",
     "output_type": "stream",
     "text": [
      "(1256, 9)\n",
      "(500, 7)\n",
      "(1496, 7)\n"
     ]
    }
   ],
   "source": [
    "print(titanic_lost.shape)\n",
    "print(titanic_survived.shape)\n",
    "print(titanic_victims.shape)"
   ]
  },
  {
   "cell_type": "code",
   "execution_count": 11,
   "metadata": {},
   "outputs": [],
   "source": [
    "complete = pd.concat([titanic_survived, titanic_victims])"
   ]
  },
  {
   "cell_type": "code",
   "execution_count": 12,
   "metadata": {},
   "outputs": [
    {
     "data": {
      "text/html": [
       "<div>\n",
       "<style scoped>\n",
       "    .dataframe tbody tr th:only-of-type {\n",
       "        vertical-align: middle;\n",
       "    }\n",
       "\n",
       "    .dataframe tbody tr th {\n",
       "        vertical-align: top;\n",
       "    }\n",
       "\n",
       "    .dataframe thead th {\n",
       "        text-align: right;\n",
       "    }\n",
       "</style>\n",
       "<table border=\"1\" class=\"dataframe\">\n",
       "  <thead>\n",
       "    <tr style=\"text-align: right;\">\n",
       "      <th></th>\n",
       "      <th>Name</th>\n",
       "      <th>Age</th>\n",
       "      <th>Class/Dept</th>\n",
       "      <th>Ticket</th>\n",
       "      <th>Joined</th>\n",
       "      <th>Job</th>\n",
       "      <th>Boat [Body]</th>\n",
       "    </tr>\n",
       "  </thead>\n",
       "  <tbody>\n",
       "    <tr>\n",
       "      <th>0</th>\n",
       "      <td>ABBOTT, Mrs Rhoda Mary 'Rosa'</td>\n",
       "      <td>39</td>\n",
       "      <td>3rd Class Passenger</td>\n",
       "      <td>CA2673£20 5s</td>\n",
       "      <td>Southampton</td>\n",
       "      <td>NaN</td>\n",
       "      <td>A</td>\n",
       "    </tr>\n",
       "    <tr>\n",
       "      <th>1</th>\n",
       "      <td>ABELSETH, Miss Kalle (Karen) Marie Kristiane</td>\n",
       "      <td>16</td>\n",
       "      <td>3rd Class Passenger</td>\n",
       "      <td>348125£7 13s</td>\n",
       "      <td>Southampton</td>\n",
       "      <td>NaN</td>\n",
       "      <td>16*</td>\n",
       "    </tr>\n",
       "    <tr>\n",
       "      <th>2</th>\n",
       "      <td>ABELSETH, Mr Olaus Jørgensen</td>\n",
       "      <td>25</td>\n",
       "      <td>3rd Class Passenger</td>\n",
       "      <td>348122£7 13s</td>\n",
       "      <td>Southampton</td>\n",
       "      <td>Farmer</td>\n",
       "      <td>A</td>\n",
       "    </tr>\n",
       "    <tr>\n",
       "      <th>3</th>\n",
       "      <td>ABELSON, Mrs Anna</td>\n",
       "      <td>28</td>\n",
       "      <td>2nd Class Passenger</td>\n",
       "      <td>3381£24</td>\n",
       "      <td>Cherbourg</td>\n",
       "      <td>NaN</td>\n",
       "      <td>NaN</td>\n",
       "    </tr>\n",
       "    <tr>\n",
       "      <th>4</th>\n",
       "      <td>ABĪ SA'B, Mrs Sha'nīnah</td>\n",
       "      <td>38</td>\n",
       "      <td>3rd Class Passenger</td>\n",
       "      <td>2688£7 4s 7d</td>\n",
       "      <td>Cherbourg</td>\n",
       "      <td>NaN</td>\n",
       "      <td>NaN</td>\n",
       "    </tr>\n",
       "  </tbody>\n",
       "</table>\n",
       "</div>"
      ],
      "text/plain": [
       "                                           Name Age           Class/Dept  \\\n",
       "0                 ABBOTT, Mrs Rhoda Mary 'Rosa'  39  3rd Class Passenger   \n",
       "1  ABELSETH, Miss Kalle (Karen) Marie Kristiane  16  3rd Class Passenger   \n",
       "2                  ABELSETH, Mr Olaus Jørgensen  25  3rd Class Passenger   \n",
       "3                             ABELSON, Mrs Anna  28  2nd Class Passenger   \n",
       "4                       ABĪ SA'B, Mrs Sha'nīnah  38  3rd Class Passenger   \n",
       "\n",
       "         Ticket       Joined     Job Boat [Body]  \n",
       "0  CA2673£20 5s  Southampton     NaN           A  \n",
       "1  348125£7 13s  Southampton     NaN         16*  \n",
       "2  348122£7 13s  Southampton  Farmer           A  \n",
       "3       3381£24    Cherbourg     NaN         NaN  \n",
       "4  2688£7 4s 7d    Cherbourg     NaN         NaN  "
      ]
     },
     "execution_count": 12,
     "metadata": {},
     "output_type": "execute_result"
    }
   ],
   "source": [
    "complete.head()"
   ]
  },
  {
   "cell_type": "code",
   "execution_count": 14,
   "metadata": {},
   "outputs": [],
   "source": [
    "complete.to_csv('complete.csv', header=True)"
   ]
  }
 ],
 "metadata": {
  "kernelspec": {
   "display_name": "venv",
   "language": "python",
   "name": "python3"
  },
  "language_info": {
   "codemirror_mode": {
    "name": "ipython",
    "version": 3
   },
   "file_extension": ".py",
   "mimetype": "text/x-python",
   "name": "python",
   "nbconvert_exporter": "python",
   "pygments_lexer": "ipython3",
   "version": "3.11.2"
  },
  "orig_nbformat": 4
 },
 "nbformat": 4,
 "nbformat_minor": 2
}
